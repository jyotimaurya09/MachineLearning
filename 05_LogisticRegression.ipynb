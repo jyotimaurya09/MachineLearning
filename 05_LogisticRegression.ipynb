{
  "cells": [
    {
      "cell_type": "markdown",
      "metadata": {
        "id": "jVZ335AU82wB"
      },
      "source": [
        "# Logistic Regression\n",
        "\n",
        "Program to implement logistic regression without using python libraries"
      ]
    },
    {
      "cell_type": "code",
      "execution_count": null,
      "metadata": {
        "id": "mb1is_DcI6ja"
      },
      "outputs": [],
      "source": [
        "import pandas as pd \n",
        "import numpy as np\n",
        "from sklearn.model_selection import train_test_split \n",
        "from sklearn.preprocessing import StandardScaler \n",
        "import matplotlib.pyplot as plt \n",
        "\n",
        "# Code to read csv file into Colaboratory:\n",
        "!pip install -U -q PyDrive\n",
        "from pydrive.auth import GoogleAuth\n",
        "from pydrive.drive import GoogleDrive\n",
        "from google.colab import auth\n",
        "from oauth2client.client import GoogleCredentials\n",
        "\n",
        "# Authenticate and create the PyDrive client.\n",
        "auth.authenticate_user()\n",
        "gauth = GoogleAuth()\n",
        "gauth.credentials = GoogleCredentials.get_application_default()\n",
        "drive = GoogleDrive(gauth)\n"
      ]
    },
    {
      "cell_type": "code",
      "execution_count": null,
      "metadata": {
        "colab": {
          "base_uri": "https://localhost:8080/"
        },
        "id": "hZdDWiKQJPBk",
        "outputId": "5c904f65-5536-4e37-a8a2-83d264b21340"
      },
      "outputs": [
        {
          "name": "stdout",
          "output_type": "stream",
          "text": [
            "1MBQ9zqolIxxmHeBPyUvnu0Kri909izv8\n"
          ]
        }
      ],
      "source": [
        "# The sharable Link\n",
        "link = 'https://drive.google.com/file/d/1MBQ9zqolIxxmHeBPyUvnu0Kri909izv8'\n",
        "\n",
        "# Get id from link\n",
        "fluff, id = link.split('d/')\n",
        "print (id)\n",
        "\n",
        "# Get File from Gdrive\n",
        "downloaded = drive.CreateFile({'id':id}) \n",
        "downloaded.GetContentFile('breast_cancer.csv')  \n",
        "\n",
        "# To store dataset in a Pandas Dataframe\n",
        "dataset = pd.read_csv('breast_cancer.csv')\n"
      ]
    },
    {
      "cell_type": "code",
      "execution_count": null,
      "metadata": {
        "colab": {
          "base_uri": "https://localhost:8080/"
        },
        "id": "9mOtndw6I6yO",
        "outputId": "c043df53-b40b-47b3-895e-069210587bbb"
      },
      "outputs": [
        {
          "name": "stdout",
          "output_type": "stream",
          "text": [
            "     diagnosis  radius_mean  ...  symmetry_worst  fractal_dimension_worst\n",
            "0            1        17.99  ...          0.4601                  0.11890\n",
            "1            1        20.57  ...          0.2750                  0.08902\n",
            "2            1        19.69  ...          0.3613                  0.08758\n",
            "3            1        11.42  ...          0.6638                  0.17300\n",
            "4            1        20.29  ...          0.2364                  0.07678\n",
            "..         ...          ...  ...             ...                      ...\n",
            "564          1        21.56  ...          0.2060                  0.07115\n",
            "565          1        20.13  ...          0.2572                  0.06637\n",
            "566          1        16.60  ...          0.2218                  0.07820\n",
            "567          1        20.60  ...          0.4087                  0.12400\n",
            "568          0         7.76  ...          0.2871                  0.07039\n",
            "\n",
            "[569 rows x 31 columns]\n",
            "[ 0.00000000e+00  3.62369255e-05  1.96542088e-05  3.70162975e-05\n",
            "  3.51819567e-05  1.75547429e-05  3.09718137e-05  3.52041816e-05\n",
            "  3.87873306e-05  1.68603843e-05  1.65681636e-07  2.72158529e-05\n",
            " -2.57551942e-06  2.75152020e-05  2.68795283e-05 -3.48825534e-06\n",
            "  1.62185702e-05  1.37611215e-05  2.17749063e-05 -6.63649192e-07\n",
            "  5.58196147e-06  3.81566080e-05  2.14143086e-05  3.88822839e-05\n",
            "  3.59718765e-05  2.07761541e-05  3.07675057e-05  3.40900700e-05\n",
            "  4.07072867e-05  2.10154910e-05  1.79808023e-05]\n",
            "0.8333333333333334\n"
          ]
        }
      ],
      "source": [
        "\n",
        "\n",
        "plt.rcParams['figure.figsize']= (10.0,10.0)\n",
        "\n",
        "dataset = dataset.iloc[:,1:-1]\n",
        "dataset.diagnosis = [1 if i == \"M\" else 0 for i in dataset.diagnosis] \n",
        "print(dataset)\n",
        "\n",
        "X = dataset.drop([\"diagnosis\"], axis = 1)\n",
        "Y = dataset.diagnosis.values\n",
        "\n",
        "m = len(X)\n",
        "x0 = np.ones(m)\n",
        "x2 = np.reshape(x0, (len(x0), 1)) \n",
        "x1 = np.append(x2, X, axis=1)\n",
        "X=x1\n",
        "\n",
        "scalar = StandardScaler() \n",
        "X = scalar.fit_transform(X)\n",
        "\n",
        "X_train, X_test, Y_train, Y_test = train_test_split(X,Y,test_size = 0.20)\n",
        "\n",
        "B = np.zeros(X_train.shape[1]) \n",
        "alpha = 0.0001\n",
        "\n",
        "def sig(z): \n",
        "    return(1/(1+np.exp(-z)))\n",
        "\n",
        "def gradient_descent (X,Y,B,alpha, iterations): \n",
        "    m = len(Y)\n",
        "    for iteration in range(iterations): \n",
        "        h = sig(X.dot(B))\n",
        "        loss = h - Y\n",
        "        gradient = X.T.dot(loss)/m \n",
        "        B = B-alpha*gradient\n",
        "        return B\n",
        "\n",
        "def predict(X,B):\n",
        "    h = sig(X.dot(B)) \n",
        "    k = 0;\n",
        "    yn = X.shape[0] \n",
        "    Y_p = np.zeros(yn) \n",
        "    for i in h:\n",
        "        if(i>0.5):\n",
        "            Y_p[k] = 1\n",
        "        else:\n",
        "            Y_p[k] = 0\n",
        "        k = k+1 \n",
        "    return(Y_p)\n",
        "\n",
        "newB = gradient_descent(X_train, Y_train, B, alpha, 10000) \n",
        "print(newB)\n",
        "\n",
        "Y_pred = predict(X_test, newB)\n",
        "\n",
        "TP=0\n",
        "for i in range(len(Y_test)):\n",
        "    if(Y_test[i] == Y_pred[i]):\n",
        "        TP = TP+1\n",
        "acc = TP/len(Y_test) \n",
        "print(acc)\n"
      ]
    }
  ],
  "metadata": {
    "colab": {
      "name": "Lab_File.ipynb",
      "provenance": []
    },
    "kernelspec": {
      "display_name": "Python 3.10.5 64-bit (windows store)",
      "language": "python",
      "name": "python3"
    },
    "language_info": {
      "name": "python",
      "version": "3.10.5"
    },
    "vscode": {
      "interpreter": {
        "hash": "48e4ea11381a31c2d275b6c719b15ddb9313194b71994cea782ec5a9fea096e0"
      }
    }
  },
  "nbformat": 4,
  "nbformat_minor": 0
}
