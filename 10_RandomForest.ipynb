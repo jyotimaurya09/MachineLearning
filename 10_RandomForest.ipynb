{
  "cells": [
    {
      "cell_type": "markdown",
      "metadata": {
        "id": "-NvPIYL8uqWM"
      },
      "source": [
        "# Random Forest"
      ]
    },
    {
      "cell_type": "code",
      "execution_count": null,
      "metadata": {
        "colab": {
          "base_uri": "https://localhost:8080/"
        },
        "id": "HmWR4dXQus0o",
        "outputId": "af864ae6-d34e-4c4b-b85c-8a281f7195da"
      },
      "outputs": [
        {
          "name": "stdout",
          "output_type": "stream",
          "text": [
            "\n",
            "--- Random Forest Classifier ---\n",
            "\n",
            "Accuracy Score for Testing Dataset: 0.9649122807017544\n",
            "\n",
            "\n",
            "            Predicted_cancer  Predicted_healthy\n",
            "Has_cancer                46                  2\n",
            "Is_healthy                 2                 64 \n",
            "\n",
            "              precision    recall  f1-score   support\n",
            "\n",
            "           0       0.97      0.97      0.97        66\n",
            "           1       0.96      0.96      0.96        48\n",
            "\n",
            "    accuracy                           0.96       114\n",
            "   macro avg       0.96      0.96      0.96       114\n",
            "weighted avg       0.96      0.96      0.96       114\n",
            "\n"
          ]
        }
      ],
      "source": [
        "import pandas as pd\n",
        "import numpy as np\n",
        "\n",
        "data = pd.read_csv('breast_cancer.csv')\n",
        "data = data.sample(frac=1)\n",
        "dataset = np.array(data)\n",
        "\n",
        "X = dataset[:,2:32]\n",
        "Y = dataset[:,1]\n",
        "\n",
        "from sklearn import preprocessing\n",
        "le = preprocessing.LabelEncoder()\n",
        "Y = le.fit_transform(Y)\n",
        "\n",
        "from sklearn.model_selection import train_test_split\n",
        "X_train, X_test, Y_train, Y_test = train_test_split(X, Y, test_size = 0.20)\n",
        "\n",
        "from sklearn.preprocessing import StandardScaler\n",
        "scaler = StandardScaler()\n",
        "X_train = scaler.fit_transform(X_train)\n",
        "X_test = scaler.transform(X_test)\n",
        "\n",
        "from sklearn.ensemble import RandomForestClassifier\n",
        "rf = RandomForestClassifier(n_estimators = 80, criterion = \"gini\", bootstrap = True, max_features = \"auto\")\n",
        "rf.fit(X_train, Y_train)\n",
        "\n",
        "y_predict = rf.predict(X_test)\n",
        "\n",
        "from sklearn.metrics import accuracy_score\n",
        "accuracy = accuracy_score(Y_test,y_predict)\n",
        "print(\"\\n--- Random Forest Classifier ---\")\n",
        "print(\"\\nAccuracy Score for Testing Dataset:\", accuracy)\n",
        "\n",
        "62\n",
        "from sklearn.metrics import confusion_matrix, classification_report\n",
        "cm = np.array(confusion_matrix(Y_test,y_predict, labels = [1,0]))\n",
        "confusion = pd.DataFrame(cm, index = ['Has_cancer','Is_healthy'],\n",
        "columns=['Predicted_cancer','Predicted_healthy'])\n",
        "print(\"\\n\")\n",
        "print(confusion , \"\\n\")\n",
        "print(classification_report(Y_test, y_predict))"
      ]
    }
  ],
  "metadata": {
    "colab": {
      "name": "algo.ipynb",
      "provenance": []
    },
    "kernelspec": {
      "display_name": "Python 3.10.5 64-bit (windows store)",
      "language": "python",
      "name": "python3"
    },
    "language_info": {
      "name": "python",
      "version": "3.10.5"
    },
    "vscode": {
      "interpreter": {
        "hash": "48e4ea11381a31c2d275b6c719b15ddb9313194b71994cea782ec5a9fea096e0"
      }
    }
  },
  "nbformat": 4,
  "nbformat_minor": 0
}
