{
  "cells": [
    {
      "cell_type": "markdown",
      "metadata": {
        "id": "M-01X_V08y_x"
      },
      "source": [
        "# Linear regression\n",
        "\n",
        "Program to implement linear regression without using python libraries"
      ]
    },
    {
      "cell_type": "code",
      "execution_count": null,
      "metadata": {
        "id": "idqTvApHCk5P"
      },
      "outputs": [],
      "source": [
        "import numpy as np\n",
        "import pandas as pd\n",
        "from sklearn.metrics import mean_squared_error\n",
        "import matplotlib.pyplot as plt\n",
        "%matplotlib inline"
      ]
    },
    {
      "cell_type": "code",
      "execution_count": null,
      "metadata": {
        "id": "Z424NvZwCgzN"
      },
      "outputs": [],
      "source": [
        "# Code to read csv file into Colaboratory:\n",
        "!pip install -U -q PyDrive\n",
        "from pydrive.auth import GoogleAuth\n",
        "from pydrive.drive import GoogleDrive\n",
        "from google.colab import auth\n",
        "from oauth2client.client import GoogleCredentials"
      ]
    },
    {
      "cell_type": "code",
      "execution_count": null,
      "metadata": {
        "id": "dFiln-REChu-"
      },
      "outputs": [],
      "source": [
        "# Authenticate and create the PyDrive client.\n",
        "auth.authenticate_user()\n",
        "gauth = GoogleAuth()\n",
        "gauth.credentials = GoogleCredentials.get_application_default()\n",
        "drive = GoogleDrive(gauth)"
      ]
    },
    {
      "cell_type": "code",
      "execution_count": null,
      "metadata": {
        "id": "uhBwjF_9Cx71"
      },
      "outputs": [],
      "source": [
        "# The sharable Link\n",
        "link = 'https://drive.google.com/file/d/18Pj4UBPaxNY883XYIDD6ek4LaVFxlxYs'"
      ]
    },
    {
      "cell_type": "code",
      "execution_count": null,
      "metadata": {
        "colab": {
          "base_uri": "https://localhost:8080/"
        },
        "id": "0wG5xrKDDYeK",
        "outputId": "13f3c73b-abc4-4a38-dd0c-f689e55e3251"
      },
      "outputs": [
        {
          "name": "stdout",
          "output_type": "stream",
          "text": [
            "18Pj4UBPaxNY883XYIDD6ek4LaVFxlxYs\n"
          ]
        }
      ],
      "source": [
        "# Get id from link\n",
        "fluff, id = link.split('d/')\n",
        "print (id)"
      ]
    },
    {
      "cell_type": "code",
      "execution_count": null,
      "metadata": {
        "id": "j3vWLKAfDYrL"
      },
      "outputs": [],
      "source": [
        "# Get File from Gdrive\n",
        "downloaded = drive.CreateFile({'id':id}) \n",
        "downloaded.GetContentFile('student.csv') "
      ]
    },
    {
      "cell_type": "code",
      "execution_count": null,
      "metadata": {
        "id": "8hp71GaiDil4"
      },
      "outputs": [],
      "source": [
        "# To store dataset in a Pandas Dataframe\n",
        "data = pd.read_csv('student.csv')"
      ]
    },
    {
      "cell_type": "code",
      "execution_count": null,
      "metadata": {
        "id": "GlXGraXUD9H7"
      },
      "outputs": [],
      "source": [
        "import matplotlib.pyplot as plt \n",
        "plt.rcParams['figure.figsize']= (10.0,10.0)\n"
      ]
    },
    {
      "cell_type": "code",
      "execution_count": null,
      "metadata": {
        "colab": {
          "base_uri": "https://localhost:8080/"
        },
        "id": "KPYewh-2D9fl",
        "outputId": "76f7c369-bb9f-448b-a965-0223306b50da"
      },
      "outputs": [
        {
          "name": "stdout",
          "output_type": "stream",
          "text": [
            "(1000, 3)\n"
          ]
        }
      ],
      "source": [
        "print(data.shape)\n",
        "\n",
        "math = data['Math'].values \n",
        "read = data['Reading'].values \n",
        "write = data['Writing'].values\n",
        "\n",
        "m = len(math) \n",
        "x0 = np.ones(m)\n",
        "X = np.array([x0, math, read]).T\n",
        "\n",
        "B = np.array([0,0,0]) \n",
        "Y = np.array(write) \n",
        "alpha = 0.0001"
      ]
    },
    {
      "cell_type": "code",
      "execution_count": null,
      "metadata": {
        "colab": {
          "base_uri": "https://localhost:8080/"
        },
        "id": "cboyD20-EYvG",
        "outputId": "9fcdb43e-5158-4658-bd77-8437facf7ccf"
      },
      "outputs": [
        {
          "name": "stdout",
          "output_type": "stream",
          "text": [
            "2470.11\n"
          ]
        }
      ],
      "source": [
        "def cost_function(X, Y, B): \n",
        "    m = len(Y)\n",
        "    J = np.sum((X.dot(B) - Y)**2)/(2*m) \n",
        "    return J\n",
        "\n",
        "initial_cost = cost_function(X, Y, B) \n",
        "print(initial_cost)\n"
      ]
    },
    {
      "cell_type": "code",
      "execution_count": null,
      "metadata": {
        "colab": {
          "base_uri": "https://localhost:8080/"
        },
        "id": "tI1lbsfyEgUX",
        "outputId": "dea0103a-8433-4be3-bc3d-0b139e4d14ef"
      },
      "outputs": [
        {
          "name": "stdout",
          "output_type": "stream",
          "text": [
            "[-0.04937824  0.08935074  0.89749625]\n",
            "10.495847413209427\n"
          ]
        }
      ],
      "source": [
        "def gradient_descent(X, Y, B, alpha, iterations): \n",
        "    cost_history = [0] *iterations\n",
        "    m = len(Y)\n",
        "    for iterations in range(iterations): \n",
        "        h = X.dot(B)\n",
        "        loss = h-Y\n",
        "        gradient = X.T.dot(loss)/m \n",
        "        B = B - alpha * gradient\n",
        "        cost = cost_function(X, Y, B) \n",
        "        cost_history[iterations] = cost\n",
        "    return B, cost_history\n",
        "\n",
        "newB, cost_history = gradient_descent(X,Y,B, alpha, 10000) \n",
        "\n",
        "print(newB)\n",
        "print(cost_history[-1]) \n"
      ]
    },
    {
      "cell_type": "code",
      "execution_count": null,
      "metadata": {
        "colab": {
          "base_uri": "https://localhost:8080/"
        },
        "id": "0pRJ0WBoEj7L",
        "outputId": "6742ab28-608a-4c15-c331-f9a374ed848c"
      },
      "outputs": [
        {
          "name": "stdout",
          "output_type": "stream",
          "text": [
            "rmse= 4.581669436615747\n"
          ]
        }
      ],
      "source": [
        "Y_pred = X.dot(newB)\n",
        "rmse = np.sqrt(mean_squared_error(Y, Y_pred)) \n",
        "print(\"rmse=\", rmse)\n"
      ]
    },
    {
      "cell_type": "code",
      "execution_count": null,
      "metadata": {
        "colab": {
          "base_uri": "https://localhost:8080/"
        },
        "id": "G178ARmrFOEI",
        "outputId": "7eaaad75-08e5-48a8-ce98-5ac254f8cc8e"
      },
      "outputs": [
        {
          "name": "stdout",
          "output_type": "stream",
          "text": [
            "R2 score:  0.909543722342958\n"
          ]
        }
      ],
      "source": [
        "def r2_score(Y,Y_pred): \n",
        "    mean_Y = np.mean(Y)\n",
        "    ss_tot = sum((Y - mean_Y)** 2)\n",
        "    ss_res = sum((Y - Y_pred)** 2) \n",
        "    r2 = 1 - (ss_res / ss_tot)\n",
        "    return r2\n",
        "\n",
        "print(\"R2 score: \", r2_score(Y, Y_pred))\n"
      ]
    },
    {
      "cell_type": "markdown",
      "metadata": {
        "id": "eaIKhnvuRztS"
      },
      "source": [
        "**Dataset**: student.csv"
      ]
    }
  ],
  "metadata": {
    "colab": {
      "name": "Lab_File.ipynb",
      "provenance": []
    },
    "kernelspec": {
      "display_name": "Python 3.10.5 64-bit (windows store)",
      "language": "python",
      "name": "python3"
    },
    "language_info": {
      "name": "python",
      "version": "3.10.5"
    },
    "vscode": {
      "interpreter": {
        "hash": "48e4ea11381a31c2d275b6c719b15ddb9313194b71994cea782ec5a9fea096e0"
      }
    }
  },
  "nbformat": 4,
  "nbformat_minor": 0
}
